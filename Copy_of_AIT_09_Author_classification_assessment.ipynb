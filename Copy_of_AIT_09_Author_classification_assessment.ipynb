{
  "nbformat": 4,
  "nbformat_minor": 0,
  "metadata": {
    "kernelspec": {
      "display_name": "Python 3",
      "language": "python",
      "name": "python3"
    },
    "language_info": {
      "codemirror_mode": {
        "name": "ipython",
        "version": 3
      },
      "file_extension": ".py",
      "mimetype": "text/x-python",
      "name": "python",
      "nbconvert_exporter": "python",
      "pygments_lexer": "ipython3",
      "version": "3.6.6"
    },
    "colab": {
      "provenance": [],
      "include_colab_link": true
    }
  },
  "cells": [
    {
      "cell_type": "markdown",
      "metadata": {
        "id": "view-in-github",
        "colab_type": "text"
      },
      "source": [
        "<a href=\"https://colab.research.google.com/github/anilalperr/AitDeepLearning/blob/main/Copy_of_AIT_09_Author_classification_assessment.ipynb\" target=\"_parent\"><img src=\"https://colab.research.google.com/assets/colab-badge.svg\" alt=\"Open In Colab\"/></a>"
      ]
    },
    {
      "cell_type": "markdown",
      "metadata": {
        "id": "_jiGtJu6u9ml"
      },
      "source": [
        "# Copyright\n",
        "\n",
        "<PRE>\n",
        "Copyright (c) 2023 Bálint Gyires-Tóth - All Rights Reserved\n",
        "You may use and modify this code for research and development purpuses.\n",
        "Use this code for educational purposes (self-paced or instructor led) without the permission of the author is prohibited.\n",
        "</PRE>"
      ]
    },
    {
      "cell_type": "markdown",
      "metadata": {
        "id": "oXyFC44jV-PP"
      },
      "source": [
        "# Author classification\n",
        "The task is to train a 1D CNN or an LSTM that is able to  classify text from two authors. The final model should be able to tell about a text with a given length (e.g. 60 characters) who wrote it. \n",
        "\n",
        "Please write the codes according to the following parts:"
      ]
    },
    {
      "cell_type": "markdown",
      "metadata": {
        "id": "jCnLoeGrHXsp"
      },
      "source": [
        "## Python module imports\n",
        "Import all Python modules that you would need during the Assignment."
      ]
    },
    {
      "cell_type": "code",
      "metadata": {
        "id": "7itbFGt3HXVT"
      },
      "source": [
        "from tensorflow.keras.models import Sequential\n",
        "from tensorflow.keras.layers import Dense, Activation, Dropout\n",
        "from tensorflow.keras.layers import LSTM\n",
        "from tensorflow.keras.optimizers import RMSprop\n",
        "from sklearn.model_selection import train_test_split\n",
        "from sklearn.metrics import confusion_matrix, classification_report\n",
        "from tensorflow.keras.callbacks import EarlyStopping\n",
        "import matplotlib.pyplot as plt\n",
        "from seaborn import countplot\n",
        "from urllib.request import urlretrieve\n",
        "import numpy as np\n",
        "import pandas as pd\n",
        "import sys\n",
        "import re, cgi\n",
        "import seaborn as sns"
      ],
      "execution_count": 58,
      "outputs": []
    },
    {
      "cell_type": "markdown",
      "metadata": {
        "id": "Hr617tEpHd8R"
      },
      "source": [
        "## Data acquisition\n",
        "Seek a possible dataset, you can use any source, e.g.\n",
        "* http://www.gutenberg.org/\n",
        "* https://www.kaggle.com/datasets\n",
        "* https://paperswithcode.com/datasets\n",
        "* if you would like to learn Hungarian, than e.g. https://mek.oszk.hu/\n",
        "\n",
        "You can download the text by hand (e.g. by copy-pasting some parts into txt files) or with Python. "
      ]
    },
    {
      "cell_type": "code",
      "metadata": {
        "id": "NgkdQxHqHdZB"
      },
      "source": [
        "text1_url = \"https://www.gutenberg.org/files/2701/2701-0.txt\" # Moby Dick by Herman Melville \n",
        "urlretrieve(text1_url, 'book.txt')\n",
        "text_hermann = open(\"book.txt\", encoding='utf-8').read().lower()\n",
        "\n",
        "text2_url = \"https://www.gutenberg.org/cache/epub/64317/pg64317.txt\" # The Great Gatsby by F. Scott Fitzgerald\n",
        "urlretrieve(text2_url, 'book2.txt')\n",
        "text_scott = open(\"book2.txt\", encoding='utf-8').read().lower()"
      ],
      "execution_count": 59,
      "outputs": []
    },
    {
      "cell_type": "markdown",
      "source": [
        "## Data analysis\n",
        "Count the number of characters from both authors and display them on a plot (e.g. Seaborn's countplot)."
      ],
      "metadata": {
        "id": "U9Pmq91t3SRD"
      }
    },
    {
      "cell_type": "code",
      "source": [
        "print('Number of characters in Moby Dick:', len(text_hermann))\n",
        "print('Number of characters in the Great Gatsby:', len(text_scott))\n",
        "\n",
        "counts = [len(text_hermann), len(text_scott)]\n",
        "\n",
        "# Define the bin edges\n",
        "bin_edges = [0, 1, 2]\n",
        "\n",
        "# Create the histogram using the count values and bin edges\n",
        "plt.hist([\"Moby Dick\", \"Great Gatsby\"], bins=bin_edges, weights=counts)\n",
        "\n",
        "# Set the x-axis labels and title\n",
        "plt.xlabel('Book Name')\n",
        "plt.ylabel('Character Count')\n",
        "plt.title('Character Counts in Moby Dick and Great Gatsby')\n",
        "\n",
        "# Show the histogram\n",
        "plt.show()"
      ],
      "metadata": {
        "id": "uRqGdn4F3Spk",
        "colab": {
          "base_uri": "https://localhost:8080/",
          "height": 507
        },
        "outputId": "479eba03-4bf3-4408-9887-fc8854c8809b"
      },
      "execution_count": 60,
      "outputs": [
        {
          "output_type": "stream",
          "name": "stdout",
          "text": [
            "Number of characters in Moby Dick: 1238355\n",
            "Number of characters in the Great Gatsby: 289901\n"
          ]
        },
        {
          "output_type": "display_data",
          "data": {
            "text/plain": [
              "<Figure size 640x480 with 1 Axes>"
            ],
            "image/png": "[encoded data removed]"
          },
          "metadata": {}
        }
      ]
    },
    {
      "cell_type": "markdown",
      "metadata": {
        "id": "cHyE_ndGIblJ"
      },
      "source": [
        "## Data loading, labeling and preprocessing\n",
        "Load the data and convert the characters into one-hot encodings. Then load the data into a 3D NumPy array, with a shape of\n",
        "\n",
        "* (batch, sequence_length, alphabet_length)\n",
        "\n",
        "where sequence_length=60, and alphabet_length equals to the number of unique characters in both datasets. The sequences should be cut out from the complete dataset by sliding window. You should add 0 and 1 labels to the sequences, according to the author. \n",
        "\n",
        "Later you may change sequence_length to achieve better results!"
      ]
    },
    {
      "cell_type": "code",
      "metadata": {
        "id": "arooXt0WIb6x",
        "colab": {
          "base_uri": "https://localhost:8080/"
        },
        "outputId": "20e33ced-ca8c-4cca-e0a9-97b1ede5f879"
      },
      "source": [
        "chars = sorted(list(set(text_hermann+text_scott)))\n",
        "print(\"Unique characters of the books:\", len(chars))\n",
        "print(chars)\n",
        "\n",
        "char_indices = dict((c, i) for i, c in enumerate(chars))\n",
        "indices_char = dict((i, c) for i, c in enumerate(chars))\n",
        "\n",
        "print(\"Indices to char dictionary:\", indices_char)"
      ],
      "execution_count": 61,
      "outputs": [
        {
          "output_type": "stream",
          "name": "stdout",
          "text": [
            "Unique characters of the books: 83\n",
            "['\\t', '\\n', ' ', '!', '\"', '#', '$', '%', '&', \"'\", '(', ')', '*', ',', '-', '.', '/', '0', '1', '2', '3', '4', '5', '6', '7', '8', '9', ':', ';', '?', '[', ']', '_', 'a', 'b', 'c', 'd', 'e', 'f', 'g', 'h', 'i', 'j', 'k', 'l', 'm', 'n', 'o', 'p', 'q', 'r', 's', 't', 'u', 'v', 'w', 'x', 'y', 'z', '£', 'â', 'æ', 'ç', 'è', 'é', 'ê', 'ô', 'œ', 'η', 'ο', 'ς', 'τ', 'ϰ', 'ו', 'ח', '\\u200a', '—', '‘', '’', '“', '”', '…', '\\ufeff']\n",
            "Indices to char dictionary: {0: '\\t', 1: '\\n', 2: ' ', 3: '!', 4: '\"', 5: '#', 6: '$', 7: '%', 8: '&', 9: \"'\", 10: '(', 11: ')', 12: '*', 13: ',', 14: '-', 15: '.', 16: '/', 17: '0', 18: '1', 19: '2', 20: '3', 21: '4', 22: '5', 23: '6', 24: '7', 25: '8', 26: '9', 27: ':', 28: ';', 29: '?', 30: '[', 31: ']', 32: '_', 33: 'a', 34: 'b', 35: 'c', 36: 'd', 37: 'e', 38: 'f', 39: 'g', 40: 'h', 41: 'i', 42: 'j', 43: 'k', 44: 'l', 45: 'm', 46: 'n', 47: 'o', 48: 'p', 49: 'q', 50: 'r', 51: 's', 52: 't', 53: 'u', 54: 'v', 55: 'w', 56: 'x', 57: 'y', 58: 'z', 59: '£', 60: 'â', 61: 'æ', 62: 'ç', 63: 'è', 64: 'é', 65: 'ê', 66: 'ô', 67: 'œ', 68: 'η', 69: 'ο', 70: 'ς', 71: 'τ', 72: 'ϰ', 73: 'ו', 74: 'ח', 75: '\\u200a', 76: '—', 77: '‘', 78: '’', 79: '“', 80: '”', 81: '…', 82: '\\ufeff'}\n"
          ]
        }
      ]
    },
    {
      "cell_type": "code",
      "source": [
        "maxlen  = 60\n",
        "step    = 100   # the step size between two \"sentence\" is 30 characters\n",
        "sentences_hermann  = [] # split the texts in Moby Dick\n",
        "sentences_scott = [] # split the texts in the Great Gatsby\n",
        "\n",
        "for i in range(0, len(text_hermann)-maxlen, step):\n",
        "    sentences_hermann.append(text_hermann[i:i+maxlen])\n",
        "\n",
        "for i in range(0, len(text_scott)-maxlen, step):\n",
        "    sentences_scott.append(text_scott[i:i+maxlen])\n",
        "\n",
        "sentences = sentences_hermann + sentences_scott\n",
        "\n",
        "print('Number of training samples:', len(sentences))"
      ],
      "metadata": {
        "colab": {
          "base_uri": "https://localhost:8080/"
        },
        "id": "BGe_hGI_gTiJ",
        "outputId": "923ae98f-0863-4068-f72c-4420dea9c815"
      },
      "execution_count": 62,
      "outputs": [
        {
          "output_type": "stream",
          "name": "stdout",
          "text": [
            "Number of training samples: 15282\n"
          ]
        }
      ]
    },
    {
      "cell_type": "code",
      "source": [
        "X = np.zeros((len(sentences), maxlen, len(chars)))\n",
        "y = np.zeros((len(sentences),1))\n",
        "\n",
        "for i, sentence in enumerate(sentences):\n",
        "    for t, char in enumerate(sentence): \n",
        "        X[i,t,char_indices[char]] = 1\n",
        "    if i < len(sentences_hermann):\n",
        "      y[i] = 0\n",
        "    else:\n",
        "      y[i] = 1\n",
        "\n",
        "print(\"Shape of the input data:\", X.shape)\n",
        "print(\"Shape of the target data:\", y.shape)"
      ],
      "metadata": {
        "colab": {
          "base_uri": "https://localhost:8080/"
        },
        "id": "83rIY5LB0cEX",
        "outputId": "5fb2c707-32d6-4912-9d6c-644d491ddb83"
      },
      "execution_count": 63,
      "outputs": [
        {
          "output_type": "stream",
          "name": "stdout",
          "text": [
            "Shape of the input data: (15282, 60, 83)\n",
            "Shape of the target data: (15282, 1)\n"
          ]
        }
      ]
    },
    {
      "cell_type": "markdown",
      "metadata": {
        "id": "lL1Mc8ibHnep"
      },
      "source": [
        "## Data splitting\n",
        "Split the data into train, validate and test sets. Make "
      ]
    },
    {
      "cell_type": "code",
      "metadata": {
        "id": "ELyG9XFUHrkB"
      },
      "source": [
        "X_train, X_test, y_train, y_test = train_test_split(X, y, test_size=0.3, random_state=42)\n",
        "X_train, X_val, y_train, y_val = train_test_split(X_train, y_train, test_size=0.3, random_state=42)"
      ],
      "execution_count": 64,
      "outputs": []
    },
    {
      "cell_type": "markdown",
      "metadata": {
        "id": "hA8U9tr7HrNQ"
      },
      "source": [
        "## Model definition\n",
        "Define a 1D CNN or an LSTM for the task. Compile the model with the correct loss function."
      ]
    },
    {
      "cell_type": "code",
      "metadata": {
        "id": "BT1V1s4kHuUe"
      },
      "source": [
        "model = Sequential()\n",
        "model.add(LSTM(128, input_shape=(X.shape[-2], X.shape[-1]))) # (batch, 128)\n",
        "model.add(Dense(1, activation='sigmoid'))"
      ],
      "execution_count": 65,
      "outputs": []
    },
    {
      "cell_type": "code",
      "source": [
        "model.summary()"
      ],
      "metadata": {
        "colab": {
          "base_uri": "https://localhost:8080/"
        },
        "id": "LY3pMBDm-ji0",
        "outputId": "33cff615-1d80-4a1e-87b8-e90722f1a983"
      },
      "execution_count": 66,
      "outputs": [
        {
          "output_type": "stream",
          "name": "stdout",
          "text": [
            "Model: \"sequential_3\"\n",
            "_________________________________________________________________\n",
            " Layer (type)                Output Shape              Param #   \n",
            "=================================================================\n",
            " lstm_3 (LSTM)               (None, 128)               108544    \n",
            "                                                                 \n",
            " dense_3 (Dense)             (None, 1)                 129       \n",
            "                                                                 \n",
            "=================================================================\n",
            "Total params: 108,673\n",
            "Trainable params: 108,673\n",
            "Non-trainable params: 0\n",
            "_________________________________________________________________\n"
          ]
        }
      ]
    },
    {
      "cell_type": "code",
      "source": [
        "model.compile(loss='binary_crossentropy', optimizer='adam', metrics=['accuracy'])"
      ],
      "metadata": {
        "id": "5Uhy5OA8_0mL"
      },
      "execution_count": 67,
      "outputs": []
    },
    {
      "cell_type": "markdown",
      "metadata": {
        "id": "hWFb-nAMHuAI"
      },
      "source": [
        "## Model training\n",
        "Train the model and apply early stopping."
      ]
    },
    {
      "cell_type": "code",
      "source": [
        "es = EarlyStopping(patience=5)"
      ],
      "metadata": {
        "id": "XEgPsWm0__wI"
      },
      "execution_count": 68,
      "outputs": []
    },
    {
      "cell_type": "code",
      "metadata": {
        "id": "dvgKjqp3Hwkp",
        "colab": {
          "base_uri": "https://localhost:8080/"
        },
        "outputId": "866549a8-63c0-4e72-b340-dca375032b83"
      },
      "source": [
        "network_history = model.fit(X_train, y_train, \n",
        "                            validation_data=(X_val,y_val),\n",
        "                            batch_size=128,                             \n",
        "                            epochs=1000, \n",
        "                            verbose=1, \n",
        "                            callbacks=[es])"
      ],
      "execution_count": 69,
      "outputs": [
        {
          "output_type": "stream",
          "name": "stdout",
          "text": [
            "Epoch 1/1000\n",
            "59/59 [==============================] - 17s 248ms/step - loss: 0.5150 - accuracy: 0.7972 - val_loss: 0.4883 - val_accuracy: 0.8050\n",
            "Epoch 2/1000\n",
            "59/59 [==============================] - 13s 225ms/step - loss: 0.4805 - accuracy: 0.8071 - val_loss: 0.4768 - val_accuracy: 0.8069\n",
            "Epoch 3/1000\n",
            "59/59 [==============================] - 14s 239ms/step - loss: 0.4347 - accuracy: 0.8246 - val_loss: 0.4437 - val_accuracy: 0.8305\n",
            "Epoch 4/1000\n",
            "59/59 [==============================] - 14s 239ms/step - loss: 0.4040 - accuracy: 0.8362 - val_loss: 0.4072 - val_accuracy: 0.8358\n",
            "Epoch 5/1000\n",
            "59/59 [==============================] - 14s 241ms/step - loss: 0.3994 - accuracy: 0.8375 - val_loss: 0.4126 - val_accuracy: 0.8333\n",
            "Epoch 6/1000\n",
            "59/59 [==============================] - 14s 241ms/step - loss: 0.3912 - accuracy: 0.8412 - val_loss: 0.4146 - val_accuracy: 0.8321\n",
            "Epoch 7/1000\n",
            "59/59 [==============================] - 13s 226ms/step - loss: 0.3887 - accuracy: 0.8413 - val_loss: 0.3904 - val_accuracy: 0.8380\n",
            "Epoch 8/1000\n",
            "59/59 [==============================] - 15s 263ms/step - loss: 0.3840 - accuracy: 0.8427 - val_loss: 0.3882 - val_accuracy: 0.8396\n",
            "Epoch 9/1000\n",
            "59/59 [==============================] - 13s 225ms/step - loss: 0.3794 - accuracy: 0.8416 - val_loss: 0.3941 - val_accuracy: 0.8374\n",
            "Epoch 10/1000\n",
            "59/59 [==============================] - 13s 223ms/step - loss: 0.3757 - accuracy: 0.8417 - val_loss: 0.4270 - val_accuracy: 0.8252\n",
            "Epoch 11/1000\n",
            "59/59 [==============================] - 14s 238ms/step - loss: 0.3859 - accuracy: 0.8444 - val_loss: 0.4015 - val_accuracy: 0.8327\n",
            "Epoch 12/1000\n",
            "59/59 [==============================] - 14s 238ms/step - loss: 0.3817 - accuracy: 0.8419 - val_loss: 0.3974 - val_accuracy: 0.8368\n",
            "Epoch 13/1000\n",
            "59/59 [==============================] - 13s 226ms/step - loss: 0.3780 - accuracy: 0.8452 - val_loss: 0.3913 - val_accuracy: 0.8327\n"
          ]
        }
      ]
    },
    {
      "cell_type": "markdown",
      "metadata": {
        "id": "0omw2XzSHwOo"
      },
      "source": [
        "## Evaluation on test data\n",
        "Evaluate the model on the test data in terms of loss and accuracy."
      ]
    },
    {
      "cell_type": "code",
      "metadata": {
        "id": "4bF3dQA1Hv_R",
        "colab": {
          "base_uri": "https://localhost:8080/"
        },
        "outputId": "fe8f868f-62d3-4b55-d4f8-415875ce07a7"
      },
      "source": [
        "print(model.evaluate(X_test, y_test))"
      ],
      "execution_count": 70,
      "outputs": [
        {
          "output_type": "stream",
          "name": "stdout",
          "text": [
            "144/144 [==============================] - 6s 42ms/step - loss: 0.3723 - accuracy: 0.8552\n",
            "[0.3723456561565399, 0.8551799058914185]\n"
          ]
        }
      ]
    },
    {
      "cell_type": "markdown",
      "metadata": {
        "id": "4Y73Q-h5Hz1r"
      },
      "source": [
        "## Confusion matrix\n",
        "Calculate and display the confusion matrix."
      ]
    },
    {
      "cell_type": "code",
      "metadata": {
        "id": "cW8zZi1uJm2B",
        "colab": {
          "base_uri": "https://localhost:8080/"
        },
        "outputId": "253677ff-3d17-4983-8ffd-5de359069375"
      },
      "source": [
        "preds = model.predict(X_test)\n",
        "preds = np.round(preds)"
      ],
      "execution_count": 74,
      "outputs": [
        {
          "output_type": "stream",
          "name": "stdout",
          "text": [
            "144/144 [==============================] - 6s 41ms/step\n"
          ]
        }
      ]
    },
    {
      "cell_type": "code",
      "source": [
        "tn, fp, fn, tp = confusion_matrix(y_test,preds).ravel()\n",
        "print({\"tn\": tn, \"fp\": fp, \"fn\": fn, \"tp\":tp})"
      ],
      "metadata": {
        "colab": {
          "base_uri": "https://localhost:8080/"
        },
        "id": "j5ZT0hPlG6Rx",
        "outputId": "f57928dd-db5e-4379-af7c-7859d7716399"
      },
      "execution_count": 75,
      "outputs": [
        {
          "output_type": "stream",
          "name": "stdout",
          "text": [
            "{'tn': 3602, 'fp': 158, 'fn': 506, 'tp': 319}\n"
          ]
        }
      ]
    },
    {
      "cell_type": "code",
      "source": [],
      "metadata": {
        "id": "kPZz0Y9FSgGe"
      },
      "execution_count": null,
      "outputs": []
    }
  ]
}